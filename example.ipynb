{
 "cells": [
  {
   "cell_type": "code",
   "execution_count": null,
   "id": "ccb1095c-c112-4858-a2b4-5bd885423958",
   "metadata": {},
   "outputs": [],
   "source": [
    "%load_ext notebook_httpdbg"
   ]
  },
  {
   "cell_type": "code",
   "execution_count": null,
   "id": "b6119d2a-b03b-41d4-881a-b1afbc87a1b9",
   "metadata": {},
   "outputs": [],
   "source": [
    "import requests"
   ]
  },
  {
   "cell_type": "code",
   "execution_count": null,
   "id": "f9b3f680-4e2e-477b-a46d-83e726314576",
   "metadata": {
    "scrolled": true
   },
   "outputs": [],
   "source": [
    "%%httpdbg\n",
    "_ = requests.get(\"https://www.example.com\")"
   ]
  },
  {
   "cell_type": "code",
   "execution_count": null,
   "id": "ae9f2db9-eff0-4c5b-8f4f-1147a2b60c0e",
   "metadata": {},
   "outputs": [],
   "source": []
  }
 ],
 "metadata": {
  "kernelspec": {
   "display_name": "Python 3 (ipykernel)",
   "language": "python",
   "name": "python3"
  },
  "language_info": {
   "codemirror_mode": {
    "name": "ipython",
    "version": 3
   },
   "file_extension": ".py",
   "mimetype": "text/x-python",
   "name": "python",
   "nbconvert_exporter": "python",
   "pygments_lexer": "ipython3",
   "version": "3.10.12"
  }
 },
 "nbformat": 4,
 "nbformat_minor": 5
}
